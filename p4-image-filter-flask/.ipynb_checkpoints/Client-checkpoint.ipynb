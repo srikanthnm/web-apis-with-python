{
 "cells": [
  {
   "cell_type": "code",
   "execution_count": 3,
   "id": "709489f6",
   "metadata": {},
   "outputs": [],
   "source": [
    "import requests"
   ]
  },
  {
   "cell_type": "code",
   "execution_count": 1,
   "id": "20b77574",
   "metadata": {},
   "outputs": [],
   "source": [
    "# Jupyter Notebook/ In[3]\n",
    "file = {\"image\": open(\"sample.jpg\",\"rb\")}\n",
    "headers = {\"type\": \"multipart/image\"}\n",
    "URL = \"http://127.0.0.1:5000\"\n",
    "filter = \"contour\"\n"
   ]
  },
  {
   "cell_type": "code",
   "execution_count": 4,
   "id": "78f0e631",
   "metadata": {},
   "outputs": [
    {
     "data": {
      "text/plain": [
       "<bound method Response.raise_for_status of <Response [200]>>"
      ]
     },
     "execution_count": 4,
     "metadata": {},
     "output_type": "execute_result"
    }
   ],
   "source": [
    "response = requests.post(f\"{URL}/{filter}\",headers=headers, files=file)\n",
    "response.raise_for_status"
   ]
  },
  {
   "cell_type": "code",
   "execution_count": null,
   "id": "869ef22f",
   "metadata": {},
   "outputs": [],
   "source": [
    "from PIL import Image\n",
    "import io\n",
    "image = Image.open(io.BytesIO(response.content))\n",
    "image.save(\"response.jpg\",\"JPEG\")\n",
    "image"
   ]
  }
 ],
 "metadata": {
  "kernelspec": {
   "display_name": "Python 3",
   "language": "python",
   "name": "python3"
  },
  "language_info": {
   "codemirror_mode": {
    "name": "ipython",
    "version": 3
   },
   "file_extension": ".py",
   "mimetype": "text/x-python",
   "name": "python",
   "nbconvert_exporter": "python",
   "pygments_lexer": "ipython3",
   "version": "3.8.8"
  }
 },
 "nbformat": 4,
 "nbformat_minor": 5
}
